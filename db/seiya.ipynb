{
 "cells": [
  {
   "cell_type": "markdown",
   "metadata": {},
   "source": [
    "1. 直近一週間分の温度データのうち近辺温度、室温、外気温、快適温度を取得する。\n",
    "2. 各温度を1時間ごとに平均値にまとめる。\n",
    "    1. データがない場合はその時間帯のデータは作成しない\n",
    "3. 近辺温度、室温、外気温、快適温度の列でCSVに出力する。"
   ]
  },
  {
   "cell_type": "code",
   "execution_count": 13,
   "metadata": {},
   "outputs": [],
   "source": [
    "import  db\n",
    "from temperature import Temperature\n",
    "from datetime import datetime, timedelta, date\n",
    "import numpy as np"
   ]
  },
  {
   "cell_type": "code",
   "execution_count": 14,
   "metadata": {},
   "outputs": [],
   "source": [
    "# 1. 直近一週間分の温度データのうち近辺温度、室温、外気温、快適温度を取得する。\n",
    "# 直近一週間の範囲\n",
    "today = date.today()\n",
    "range_end = datetime(year=today.year, month=today.month, day=today.day)\n",
    "range_start = range_end - timedelta(days=7)"
   ]
  },
  {
   "cell_type": "code",
   "execution_count": 15,
   "metadata": {},
   "outputs": [
    {
     "data": {
      "text/plain": [
       "datetime.datetime(2022, 1, 13, 0, 0)"
      ]
     },
     "execution_count": 15,
     "metadata": {},
     "output_type": "execute_result"
    }
   ],
   "source": [
    "range_end"
   ]
  },
  {
   "cell_type": "code",
   "execution_count": 16,
   "metadata": {},
   "outputs": [
    {
     "data": {
      "text/plain": [
       "datetime.datetime(2022, 1, 6, 0, 0)"
      ]
     },
     "execution_count": 16,
     "metadata": {},
     "output_type": "execute_result"
    }
   ],
   "source": [
    "range_start"
   ]
  },
  {
   "cell_type": "code",
   "execution_count": 17,
   "metadata": {},
   "outputs": [],
   "source": [
    "# 直近7日前のデータを取得する。\n",
    "seq = Temperature.objects(time__gt=range_start).all()"
   ]
  },
  {
   "cell_type": "code",
   "execution_count": 18,
   "metadata": {},
   "outputs": [],
   "source": [
    "neights = []\n",
    "rooms = []\n",
    "outsides = []\n",
    "comfs = []\n",
    "#振り分けをするメソッド\n",
    "def sorting(temp_data):\n",
    "    if temp_data.temperatureCategory == 0:\n",
    "        neights.append(temp_data)\n",
    "    elif temp_data.temperatureCategory == 1:\n",
    "        rooms.append(temp_data)\n",
    "    elif temp_data.temperatureCategory == 2:\n",
    "        outsides.append(temp_data)\n",
    "    elif temp_data.temperatureCategory == 3:\n",
    "        comfs.append(temp_data)"
   ]
  },
  {
   "cell_type": "code",
   "execution_count": 19,
   "metadata": {},
   "outputs": [],
   "source": [
    "for d in seq:\n",
    "    sorting(d)"
   ]
  },
  {
   "cell_type": "code",
   "execution_count": 20,
   "metadata": {},
   "outputs": [
    {
     "data": {
      "text/plain": [
       "[]"
      ]
     },
     "execution_count": 20,
     "metadata": {},
     "output_type": "execute_result"
    }
   ],
   "source": [
    "neights"
   ]
  },
  {
   "cell_type": "code",
   "execution_count": 21,
   "metadata": {},
   "outputs": [
    {
     "data": {
      "text/plain": [
       "[]"
      ]
     },
     "execution_count": 21,
     "metadata": {},
     "output_type": "execute_result"
    }
   ],
   "source": [
    "rooms"
   ]
  },
  {
   "cell_type": "code",
   "execution_count": 22,
   "metadata": {},
   "outputs": [
    {
     "data": {
      "text/plain": [
       "[]"
      ]
     },
     "execution_count": 22,
     "metadata": {},
     "output_type": "execute_result"
    }
   ],
   "source": [
    "outsides"
   ]
  },
  {
   "cell_type": "code",
   "execution_count": 23,
   "metadata": {},
   "outputs": [
    {
     "data": {
      "text/plain": [
       "[]"
      ]
     },
     "execution_count": 23,
     "metadata": {},
     "output_type": "execute_result"
    }
   ],
   "source": [
    "comfs"
   ]
  },
  {
   "cell_type": "code",
   "execution_count": 24,
   "metadata": {},
   "outputs": [],
   "source": [
    "ave_neights = []\n",
    "# １時間ごとに平均値を計算する。\n",
    "def average(data_list):\n",
    "    global range_start\n",
    "    ave_data_list = []\n",
    "    while range_start <= range_end:\n",
    "        t_data_list = []\n",
    "        for d in data_list:\n",
    "            if d.time.hour == range_start.hour:\n",
    "                t_data_list.append(d)\n",
    "        try:\n",
    "            ave_data_list.append(sum(t_data_list)/len(t_data_list))\n",
    "        except ZeroDivisionError:\n",
    "            ave_data_list.append(np.NaN)\n",
    "        range_start += timedelta(hours=1)\n",
    "average(neights)"
   ]
  },
  {
   "cell_type": "markdown",
   "metadata": {},
   "source": [
    "# データをもっと追加しなきゃいけんね！！"
   ]
  }
 ],
 "metadata": {
  "interpreter": {
   "hash": "10316348dd5185eb173c090becb8fd6c3ce61563e15e915980af59e2bb6cb02a"
  },
  "kernelspec": {
   "display_name": "Python 3.7.3 64-bit ('env': venv)",
   "language": "python",
   "name": "python3"
  },
  "language_info": {
   "codemirror_mode": {
    "name": "ipython",
    "version": 3
   },
   "file_extension": ".py",
   "mimetype": "text/x-python",
   "name": "python",
   "nbconvert_exporter": "python",
   "pygments_lexer": "ipython3",
   "version": "3.7.3"
  },
  "orig_nbformat": 4
 },
 "nbformat": 4,
 "nbformat_minor": 2
}
